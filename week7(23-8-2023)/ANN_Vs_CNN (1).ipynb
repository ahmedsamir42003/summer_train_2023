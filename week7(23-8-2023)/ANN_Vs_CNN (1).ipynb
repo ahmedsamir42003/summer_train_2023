{
 "cells": [
  {
   "cell_type": "code",
   "execution_count": 1,
   "id": "f3fbaea6",
   "metadata": {},
   "outputs": [],
   "source": [
    "import tensorflow as tf\n",
    "from tensorflow.keras import datasets, layers, models\n",
    "import matplotlib.pyplot as plt\n",
    "import numpy as np"
   ]
  },
  {
   "cell_type": "code",
   "execution_count": 2,
   "id": "6ca2c25d",
   "metadata": {},
   "outputs": [
    {
     "data": {
      "text/plain": [
       "(50000, 32, 32, 3)"
      ]
     },
     "execution_count": 2,
     "metadata": {},
     "output_type": "execute_result"
    }
   ],
   "source": [
    "(X_train, y_train), (X_test,y_test) = datasets.cifar10.load_data()\n",
    "X_train.shape"
   ]
  },
  {
   "cell_type": "code",
   "execution_count": 3,
   "id": "7d2906fc",
   "metadata": {},
   "outputs": [
    {
     "data": {
      "text/plain": [
       "(10000, 32, 32, 3)"
      ]
     },
     "execution_count": 3,
     "metadata": {},
     "output_type": "execute_result"
    }
   ],
   "source": [
    "X_test.shape"
   ]
  },
  {
   "cell_type": "code",
   "execution_count": 4,
   "id": "ecb78223",
   "metadata": {},
   "outputs": [
    {
     "data": {
      "text/plain": [
       "(50000, 1)"
      ]
     },
     "execution_count": 4,
     "metadata": {},
     "output_type": "execute_result"
    }
   ],
   "source": [
    "y_train.shape"
   ]
  },
  {
   "cell_type": "code",
   "execution_count": 5,
   "id": "6779fe1f",
   "metadata": {},
   "outputs": [
    {
     "data": {
      "text/plain": [
       "array([[6],\n",
       "       [9],\n",
       "       [9],\n",
       "       [4],\n",
       "       [1]], dtype=uint8)"
      ]
     },
     "execution_count": 5,
     "metadata": {},
     "output_type": "execute_result"
    }
   ],
   "source": [
    "y_train[:5]#-->2D array"
   ]
  },
  {
   "cell_type": "code",
   "execution_count": 6,
   "id": "efb91302",
   "metadata": {},
   "outputs": [],
   "source": [
    "y_train = y_train.reshape(-1,)"
   ]
  },
  {
   "cell_type": "code",
   "execution_count": 22,
   "id": "0f9a6724",
   "metadata": {},
   "outputs": [
    {
     "data": {
      "text/plain": [
       "array([3, 8, 8, 0, 6], dtype=uint8)"
      ]
     },
     "execution_count": 22,
     "metadata": {},
     "output_type": "execute_result"
    }
   ],
   "source": [
    "y_test[:5]"
   ]
  },
  {
   "cell_type": "code",
   "execution_count": 8,
   "id": "96c12593",
   "metadata": {},
   "outputs": [
    {
     "data": {
      "text/plain": [
       "(50000,)"
      ]
     },
     "execution_count": 8,
     "metadata": {},
     "output_type": "execute_result"
    }
   ],
   "source": [
    "y_train.shape"
   ]
  },
  {
   "cell_type": "code",
   "execution_count": 9,
   "id": "7ae7afff",
   "metadata": {},
   "outputs": [],
   "source": [
    "y_test = y_test.reshape(-1,)"
   ]
  },
  {
   "cell_type": "code",
   "execution_count": 10,
   "id": "74ee496f",
   "metadata": {},
   "outputs": [],
   "source": [
    "classes = [\"airplane\",\"automobile\",\"bird\",\"cat\",\"deer\",\"dog\",\"frog\",\"horse\",\"ship\",\"truck\"]"
   ]
  },
  {
   "cell_type": "code",
   "execution_count": 11,
   "id": "2a55e285",
   "metadata": {},
   "outputs": [],
   "source": [
    "def plot_sample(X, y, index):\n",
    "    plt.figure(figsize = (15,2))\n",
    "    plt.imshow(X[index])\n",
    "    plt.xlabel(classes[y[index]])"
   ]
  },
  {
   "cell_type": "code",
   "execution_count": 12,
   "id": "db76e1ba",
   "metadata": {},
   "outputs": [
    {
     "data": {
      "image/png": "[encoded data removed]",
      "text/plain": [
       "<Figure size 1080x144 with 1 Axes>"
      ]
     },
     "metadata": {
      "needs_background": "light"
     },
     "output_type": "display_data"
    }
   ],
   "source": [
    "plot_sample(X_train, y_train, 0)"
   ]
  },
  {
   "cell_type": "code",
   "execution_count": 13,
   "id": "57911415",
   "metadata": {},
   "outputs": [
    {
     "data": {
      "image/png": "[encoded data removed]",
      "text/plain": [
       "<Figure size 1080x144 with 1 Axes>"
      ]
     },
     "metadata": {
      "needs_background": "light"
     },
     "output_type": "display_data"
    }
   ],
   "source": [
    "plot_sample(X_train, y_train, 1)"
   ]
  },
  {
   "cell_type": "markdown",
   "id": "c3ddc260",
   "metadata": {},
   "source": [
    "Normalize the images to a number from 0 to 1. Image has 3 channels (R,G,B) and each value in the channel can range from 0 to 255. Hence to normalize in 0-->1 range, we need to divide it by 255"
   ]
  },
  {
   "cell_type": "code",
   "execution_count": 14,
   "id": "9a1c8474",
   "metadata": {},
   "outputs": [],
   "source": [
    "X_train = X_train / 255.0\n",
    "X_test = X_test / 255.0"
   ]
  },
  {
   "cell_type": "markdown",
   "id": "379fe020",
   "metadata": {},
   "source": [
    "# ANN"
   ]
  },
  {
   "cell_type": "code",
   "execution_count": 15,
   "id": "f1fd061a",
   "metadata": {},
   "outputs": [
    {
     "name": "stdout",
     "output_type": "stream",
     "text": [
      "Epoch 1/5\n",
      "1563/1563 [==============================] - 18s 9ms/step - loss: 1.8714 - accuracy: 0.3307\n",
      "Epoch 2/5\n",
      "1563/1563 [==============================] - 12s 8ms/step - loss: 1.6896 - accuracy: 0.4009\n",
      "Epoch 3/5\n",
      "1563/1563 [==============================] - 12s 8ms/step - loss: 1.6064 - accuracy: 0.4331\n",
      "Epoch 4/5\n",
      "1563/1563 [==============================] - 12s 8ms/step - loss: 1.5474 - accuracy: 0.4519\n",
      "Epoch 5/5\n",
      "1563/1563 [==============================] - 12s 8ms/step - loss: 1.5001 - accuracy: 0.4689\n"
     ]
    },
    {
     "data": {
      "text/plain": [
       "<keras.callbacks.History at 0x1b0a1259af0>"
      ]
     },
     "execution_count": 15,
     "metadata": {},
     "output_type": "execute_result"
    }
   ],
   "source": [
    "ann = models.Sequential([\n",
    "        layers.Flatten(input_shape=(32,32,3)),\n",
    "        layers.Dense(300, activation='relu'),\n",
    "        layers.Dense(300, activation='relu'),\n",
    "        layers.Dense(10, activation='softmax')    \n",
    "    ])\n",
    "\n",
    "ann.compile(optimizer='SGD',\n",
    "              loss='sparse_categorical_crossentropy',\n",
    "              metrics=['accuracy'])\n",
    "\n",
    "ann.fit(X_train, y_train, epochs=5)"
   ]
  },
  {
   "cell_type": "code",
   "execution_count": 20,
   "id": "da93fcd7",
   "metadata": {},
   "outputs": [
    {
     "name": "stdout",
     "output_type": "stream",
     "text": [
      "313/313 [==============================] - 2s 4ms/step - loss: 1.5134 - accuracy: 0.4640\n"
     ]
    },
    {
     "data": {
      "text/plain": [
       "[1.513380765914917, 0.46399998664855957]"
      ]
     },
     "execution_count": 20,
     "metadata": {},
     "output_type": "execute_result"
    }
   ],
   "source": [
    "ann.evaluate(X_test,y_test)"
   ]
  },
  {
   "cell_type": "code",
   "execution_count": 21,
   "id": "61195b64",
   "metadata": {},
   "outputs": [
    {
     "data": {
      "text/plain": [
       "array([[5.58758602e-02, 4.79714386e-02, 7.65780285e-02, 4.56130624e-01,\n",
       "        2.71514338e-02, 1.59498602e-01, 1.04024552e-01, 7.18585076e-03,\n",
       "        5.90907820e-02, 6.49272976e-03],\n",
       "       [3.86311114e-02, 1.21389546e-01, 1.43567647e-03, 3.01484670e-03,\n",
       "        9.82299098e-04, 9.97035997e-04, 3.81257385e-04, 8.39598943e-04,\n",
       "        7.97581375e-02, 7.52570450e-01],\n",
       "       [2.16165558e-01, 2.49340788e-01, 4.89612250e-03, 8.09470378e-03,\n",
       "        3.53754102e-03, 3.73002584e-03, 3.13561381e-04, 3.74243967e-03,\n",
       "        2.86768287e-01, 2.23410979e-01],\n",
       "       [4.01759148e-01, 6.07144311e-02, 5.93524612e-02, 3.03655490e-02,\n",
       "        5.19322157e-02, 1.91355105e-02, 1.67586294e-03, 2.91391537e-02,\n",
       "        2.99195021e-01, 4.67306264e-02],\n",
       "       [1.28612239e-02, 4.15591523e-03, 9.89287868e-02, 8.56905505e-02,\n",
       "        4.68870908e-01, 1.10829495e-01, 1.61527500e-01, 4.60422896e-02,\n",
       "        8.79349280e-03, 2.29983171e-03]], dtype=float32)"
      ]
     },
     "execution_count": 21,
     "metadata": {},
     "output_type": "execute_result"
    }
   ],
   "source": [
    "y_pred = ann.predict(X_test)\n",
    "y_pred[:5]"
   ]
  },
  {
   "cell_type": "markdown",
   "id": "080ddaee",
   "metadata": {},
   "source": [
    "# CNN"
   ]
  },
  {
   "cell_type": "code",
   "execution_count": 28,
   "id": "a0132f19",
   "metadata": {},
   "outputs": [],
   "source": [
    "cnn = models.Sequential([\n",
    "    layers.Conv2D(filters=32, kernel_size=(3, 3), activation='relu', input_shape=(32, 32, 3)),\n",
    "    layers.MaxPooling2D((2, 2)),\n",
    "    \n",
    "    layers.Conv2D(filters=32, kernel_size=(3, 3), activation='relu'),\n",
    "    layers.MaxPooling2D((2, 2)),\n",
    "    \n",
    "    layers.Flatten(),\n",
    "    layers.Dense(64, activation='relu'),\n",
    "    layers.Dense(10, activation='softmax')\n",
    "])"
   ]
  },
  {
   "cell_type": "code",
   "execution_count": 29,
   "id": "000f2781",
   "metadata": {},
   "outputs": [],
   "source": [
    "cnn.compile(optimizer='adam',\n",
    "              loss='sparse_categorical_crossentropy',\n",
    "              metrics=['accuracy'])"
   ]
  },
  {
   "cell_type": "code",
   "execution_count": 30,
   "id": "90e0c655",
   "metadata": {},
   "outputs": [
    {
     "name": "stdout",
     "output_type": "stream",
     "text": [
      "Epoch 1/5\n",
      "1563/1563 [==============================] - 43s 25ms/step - loss: 1.4784 - accuracy: 0.4683\n",
      "Epoch 2/5\n",
      "1563/1563 [==============================] - 43s 28ms/step - loss: 1.1619 - accuracy: 0.5915\n",
      "Epoch 3/5\n",
      "1563/1563 [==============================] - 43s 28ms/step - loss: 1.0447 - accuracy: 0.6318\n",
      "Epoch 4/5\n",
      "1563/1563 [==============================] - 39s 25ms/step - loss: 0.9698 - accuracy: 0.6602\n",
      "Epoch 5/5\n",
      "1563/1563 [==============================] - 39s 25ms/step - loss: 0.9126 - accuracy: 0.6798\n"
     ]
    },
    {
     "data": {
      "text/plain": [
       "<keras.callbacks.History at 0x1b0a58c9b50>"
      ]
     },
     "execution_count": 30,
     "metadata": {},
     "output_type": "execute_result"
    }
   ],
   "source": [
    "cnn.fit(X_train, y_train, epochs=5)"
   ]
  },
  {
   "cell_type": "code",
   "execution_count": 31,
   "id": "42290f1d",
   "metadata": {},
   "outputs": [
    {
     "name": "stdout",
     "output_type": "stream",
     "text": [
      "313/313 [==============================] - 3s 8ms/step - loss: 0.9689 - accuracy: 0.6639\n"
     ]
    },
    {
     "data": {
      "text/plain": [
       "[0.9689026474952698, 0.6639000177383423]"
      ]
     },
     "execution_count": 31,
     "metadata": {},
     "output_type": "execute_result"
    }
   ],
   "source": [
    "cnn.evaluate(X_test,y_test)"
   ]
  },
  {
   "cell_type": "code",
   "execution_count": 32,
   "id": "826d4d8e",
   "metadata": {},
   "outputs": [
    {
     "data": {
      "text/plain": [
       "array([[1.9835746e-02, 8.6172083e-03, 2.1872250e-02, 4.2621496e-01,\n",
       "        3.8943579e-03, 9.4622508e-02, 4.2737670e-02, 1.7101414e-03,\n",
       "        3.7584311e-01, 4.6521281e-03],\n",
       "       [4.8271891e-02, 2.3672014e-01, 8.5122301e-06, 1.1349278e-05,\n",
       "        1.0673456e-06, 1.8645378e-06, 1.2188817e-06, 1.1587429e-06,\n",
       "        6.6318840e-01, 5.1794328e-02],\n",
       "       [1.1110377e-01, 7.5996533e-02, 9.6217106e-04, 1.7955521e-03,\n",
       "        2.7818212e-04, 4.9726345e-04, 3.2020319e-04, 2.8955261e-04,\n",
       "        7.5839353e-01, 5.0363224e-02],\n",
       "       [9.7118157e-01, 1.8470282e-03, 8.8444883e-03, 1.1094287e-04,\n",
       "        7.0988917e-04, 4.9673417e-06, 3.9962505e-04, 6.1504838e-06,\n",
       "        1.6780576e-02, 1.1476429e-04],\n",
       "       [5.8223857e-05, 3.0240367e-04, 3.6991484e-02, 1.1931825e-01,\n",
       "        2.8412846e-01, 2.5490602e-02, 5.3310323e-01, 9.3195886e-05,\n",
       "        4.4099748e-04, 7.3223084e-05]], dtype=float32)"
      ]
     },
     "execution_count": 32,
     "metadata": {},
     "output_type": "execute_result"
    }
   ],
   "source": [
    "y_pred = cnn.predict(X_test)\n",
    "y_pred[:5]"
   ]
  },
  {
   "cell_type": "code",
   "execution_count": null,
   "id": "46094501",
   "metadata": {},
   "outputs": [],
   "source": []
  }
 ],
 "metadata": {
  "kernelspec": {
   "display_name": "Python 3 (ipykernel)",
   "language": "python",
   "name": "python3"
  },
  "language_info": {
   "codemirror_mode": {
    "name": "ipython",
    "version": 3
   },
   "file_extension": ".py",
   "mimetype": "text/x-python",
   "name": "python",
   "nbconvert_exporter": "python",
   "pygments_lexer": "ipython3",
   "version": "3.9.7"
  }
 },
 "nbformat": 4,
 "nbformat_minor": 5
}
