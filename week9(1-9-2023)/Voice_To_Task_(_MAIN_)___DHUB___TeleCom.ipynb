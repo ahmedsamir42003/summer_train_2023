{
  "cells": [
    {
      "cell_type": "markdown",
      "id": "eef1fcd9",
      "metadata": {
        "id": "eef1fcd9"
      },
      "source": [
        "# Install Main Packages (SpeechRecognition)"
      ]
    },
    {
      "cell_type": "code",
      "execution_count": null,
      "id": "b21edd55",
      "metadata": {
        "id": "b21edd55",
        "outputId": "6c2357fa-ea76-4e7e-8bcf-02d79f3644a7"
      },
      "outputs": [
        {
          "name": "stdout",
          "output_type": "stream",
          "text": [
            "Collecting SpeechRecognition\n",
            "  Downloading SpeechRecognition-3.8.1-py2.py3-none-any.whl (32.8 MB)\n",
            "\u001b[2K     \u001b[38;2;114;156;31m━━━━━━━━━━━━━━━━━━━━━━━━━━━━━━━━━━━━━━━━\u001b[0m \u001b[32m32.8/32.8 MB\u001b[0m \u001b[31m1.1 MB/s\u001b[0m eta \u001b[36m0:00:00\u001b[0mm eta \u001b[36m0:00:01\u001b[0m[36m0:00:01\u001b[0mm\n",
            "\u001b[?25hInstalling collected packages: SpeechRecognition\n",
            "Successfully installed SpeechRecognition-3.8.1\n",
            "Note: you may need to restart the kernel to use updated packages.\n"
          ]
        }
      ],
      "source": [
        "%pip install SpeechRecognition"
      ]
    },
    {
      "cell_type": "code",
      "execution_count": null,
      "id": "7566586a",
      "metadata": {
        "id": "7566586a"
      },
      "outputs": [],
      "source": [
        "import webbrowser as wb"
      ]
    },
    {
      "cell_type": "code",
      "execution_count": null,
      "id": "01e208fd",
      "metadata": {
        "id": "01e208fd"
      },
      "outputs": [],
      "source": [
        "import speech_recognition as sr\n",
        "r = sr.Recognizer()\n",
        "with sr.Microphone() as source:\n",
        "    audio = r.listen(source)"
      ]
    },
    {
      "cell_type": "code",
      "execution_count": null,
      "id": "002539f2",
      "metadata": {
        "id": "002539f2"
      },
      "outputs": [],
      "source": [
        "import speech_recognition"
      ]
    },
    {
      "cell_type": "code",
      "execution_count": null,
      "id": "10f81106",
      "metadata": {
        "id": "10f81106",
        "outputId": "998cfecb-1315-4a26-e0a1-99b207f96eab"
      },
      "outputs": [
        {
          "name": "stdout",
          "output_type": "stream",
          "text": [
            "[search edureka: search youtube]\n",
            "speak now\n"
          ]
        },
        {
          "ename": "UnknownValueError",
          "evalue": "",
          "output_type": "error",
          "traceback": [
            "\u001b[1;31m---------------------------------------------------------------------------\u001b[0m",
            "\u001b[1;31mUnknownValueError\u001b[0m                         Traceback (most recent call last)",
            "\u001b[1;32m~\\AppData\\Local\\Temp/ipykernel_3256/3747756284.py\u001b[0m in \u001b[0;36m<module>\u001b[1;34m\u001b[0m\n\u001b[0;32m     11\u001b[0m     \u001b[0maudio\u001b[0m \u001b[1;33m=\u001b[0m \u001b[0mr3\u001b[0m\u001b[1;33m.\u001b[0m\u001b[0mlisten\u001b[0m\u001b[1;33m(\u001b[0m\u001b[0msource\u001b[0m\u001b[1;33m)\u001b[0m\u001b[1;33m\u001b[0m\u001b[1;33m\u001b[0m\u001b[0m\n\u001b[0;32m     12\u001b[0m \u001b[1;33m\u001b[0m\u001b[0m\n\u001b[1;32m---> 13\u001b[1;33m     \u001b[1;32mif\u001b[0m \u001b[1;34m'edureka'\u001b[0m\u001b[1;32min\u001b[0m \u001b[0mr2\u001b[0m\u001b[1;33m.\u001b[0m\u001b[0mrecognize_google\u001b[0m\u001b[1;33m(\u001b[0m\u001b[0maudio\u001b[0m\u001b[1;33m)\u001b[0m\u001b[1;33m:\u001b[0m\u001b[1;33m\u001b[0m\u001b[1;33m\u001b[0m\u001b[0m\n\u001b[0m\u001b[0;32m     14\u001b[0m         \u001b[0mr2\u001b[0m \u001b[1;33m=\u001b[0m \u001b[0msr\u001b[0m\u001b[1;33m.\u001b[0m\u001b[0mRecognizer\u001b[0m\u001b[1;33m(\u001b[0m\u001b[1;33m)\u001b[0m\u001b[1;33m\u001b[0m\u001b[1;33m\u001b[0m\u001b[0m\n\u001b[0;32m     15\u001b[0m         \u001b[0murl\u001b[0m \u001b[1;33m=\u001b[0m \u001b[1;34m'https://www.edureka.co/'\u001b[0m\u001b[1;33m\u001b[0m\u001b[1;33m\u001b[0m\u001b[0m\n",
            "\u001b[1;32mC:\\ProgramData\\Anaconda3\\lib\\site-packages\\speech_recognition\\__init__.py\u001b[0m in \u001b[0;36mrecognize_google\u001b[1;34m(self, audio_data, key, language, pfilter, show_all, with_confidence)\u001b[0m\n\u001b[0;32m    726\u001b[0m             \u001b[1;32mreturn\u001b[0m \u001b[0mactual_result\u001b[0m\u001b[1;33m\u001b[0m\u001b[1;33m\u001b[0m\u001b[0m\n\u001b[0;32m    727\u001b[0m \u001b[1;33m\u001b[0m\u001b[0m\n\u001b[1;32m--> 728\u001b[1;33m         \u001b[1;32mif\u001b[0m \u001b[1;32mnot\u001b[0m \u001b[0misinstance\u001b[0m\u001b[1;33m(\u001b[0m\u001b[0mactual_result\u001b[0m\u001b[1;33m,\u001b[0m \u001b[0mdict\u001b[0m\u001b[1;33m)\u001b[0m \u001b[1;32mor\u001b[0m \u001b[0mlen\u001b[0m\u001b[1;33m(\u001b[0m\u001b[0mactual_result\u001b[0m\u001b[1;33m.\u001b[0m\u001b[0mget\u001b[0m\u001b[1;33m(\u001b[0m\u001b[1;34m\"alternative\"\u001b[0m\u001b[1;33m,\u001b[0m \u001b[1;33m[\u001b[0m\u001b[1;33m]\u001b[0m\u001b[1;33m)\u001b[0m\u001b[1;33m)\u001b[0m \u001b[1;33m==\u001b[0m \u001b[1;36m0\u001b[0m\u001b[1;33m:\u001b[0m \u001b[1;32mraise\u001b[0m \u001b[0mUnknownValueError\u001b[0m\u001b[1;33m(\u001b[0m\u001b[1;33m)\u001b[0m\u001b[1;33m\u001b[0m\u001b[1;33m\u001b[0m\u001b[0m\n\u001b[0m\u001b[0;32m    729\u001b[0m \u001b[1;33m\u001b[0m\u001b[0m\n\u001b[0;32m    730\u001b[0m         \u001b[1;32mif\u001b[0m \u001b[1;34m\"confidence\"\u001b[0m \u001b[1;32min\u001b[0m \u001b[0mactual_result\u001b[0m\u001b[1;33m[\u001b[0m\u001b[1;34m\"alternative\"\u001b[0m\u001b[1;33m]\u001b[0m\u001b[1;33m:\u001b[0m\u001b[1;33m\u001b[0m\u001b[1;33m\u001b[0m\u001b[0m\n",
            "\u001b[1;31mUnknownValueError\u001b[0m: "
          ]
        }
      ],
      "source": [
        "import  speech_recognition as sr\n",
        "import  webbrowser as wb\n",
        "\n",
        "r1 = sr.Recognizer()\n",
        "r2 = sr.Recognizer()\n",
        "r3 = sr.Recognizer()\n",
        "\n",
        "with sr.Microphone() as source:\n",
        "    print('[search edureka: search youtube]')\n",
        "    print('speak now')\n",
        "    audio = r3.listen(source)\n",
        "\n",
        "    if 'edureka'in r2.recognize_google(audio):\n",
        "        r2 = sr.Recognizer()\n",
        "        url = 'https://www.edureka.co/'\n",
        "        with  sr.Microphone()  as source:\n",
        "            print('search your query')\n",
        "            audio = r2.listen(source)\n",
        "\n",
        "        try:\n",
        "            get = r2.recognize_google(audio)\n",
        "            print(get)\n",
        "            wb.get().open_new(url+get)\n",
        "\n",
        "        except  sr.UnknownValueError:\n",
        "            print('error')\n",
        "        except  sr.RequestError  as e:\n",
        "            print('failed'.format(e))\n",
        "\n",
        "\n",
        "    if 'video' in r1.recognize_google(audio):\n",
        "        r1 = sr.Recognizer()\n",
        "        url = 'https://www.youtube.com/results?search_query='\n",
        "        with  sr.Microphone() as source:\n",
        "            print('search for a video')\n",
        "            audio = r2.listen(source)\n",
        "\n",
        "        try:\n",
        "            get = r1.recognize_google(audio)\n",
        "            print(get)\n",
        "            wb.get().open_new(url+get)\n",
        "\n",
        "        except sr.UnknownValueError:\n",
        "            print('could not understand')\n",
        "        except sr.RequestError as e:\n",
        "            print('failed to get results'.format(e))\n",
        "\n",
        ""
      ]
    },
    {
      "cell_type": "code",
      "execution_count": null,
      "id": "ceed84fc",
      "metadata": {
        "id": "ceed84fc",
        "outputId": "d73b6de0-f104-4013-aad8-08ddb43f82c4"
      },
      "outputs": [
        {
          "name": "stdout",
          "output_type": "stream",
          "text": [
            "{'index': 0, 'structVersion': 2, 'name': 'HDA Intel HDMI: 0 (hw:0,3)', 'hostApi': 0, 'maxInputChannels': 0, 'maxOutputChannels': 8, 'defaultLowInputLatency': -1.0, 'defaultLowOutputLatency': 0.005804988662131519, 'defaultHighInputLatency': -1.0, 'defaultHighOutputLatency': 0.034829931972789115, 'defaultSampleRate': 44100.0}\n",
            "{'index': 1, 'structVersion': 2, 'name': 'HDA Intel HDMI: 1 (hw:0,7)', 'hostApi': 0, 'maxInputChannels': 0, 'maxOutputChannels': 8, 'defaultLowInputLatency': -1.0, 'defaultLowOutputLatency': 0.005804988662131519, 'defaultHighInputLatency': -1.0, 'defaultHighOutputLatency': 0.034829931972789115, 'defaultSampleRate': 44100.0}\n",
            "{'index': 2, 'structVersion': 2, 'name': 'HDA Intel HDMI: 2 (hw:0,8)', 'hostApi': 0, 'maxInputChannels': 0, 'maxOutputChannels': 8, 'defaultLowInputLatency': -1.0, 'defaultLowOutputLatency': 0.005804988662131519, 'defaultHighInputLatency': -1.0, 'defaultHighOutputLatency': 0.034829931972789115, 'defaultSampleRate': 44100.0}\n",
            "{'index': 3, 'structVersion': 2, 'name': 'HDA Intel HDMI: 3 (hw:0,9)', 'hostApi': 0, 'maxInputChannels': 0, 'maxOutputChannels': 8, 'defaultLowInputLatency': -1.0, 'defaultLowOutputLatency': 0.005804988662131519, 'defaultHighInputLatency': -1.0, 'defaultHighOutputLatency': 0.034829931972789115, 'defaultSampleRate': 44100.0}\n",
            "{'index': 4, 'structVersion': 2, 'name': 'HDA Intel HDMI: 4 (hw:0,10)', 'hostApi': 0, 'maxInputChannels': 0, 'maxOutputChannels': 8, 'defaultLowInputLatency': -1.0, 'defaultLowOutputLatency': 0.005804988662131519, 'defaultHighInputLatency': -1.0, 'defaultHighOutputLatency': 0.034829931972789115, 'defaultSampleRate': 44100.0}\n",
            "{'index': 5, 'structVersion': 2, 'name': 'HDA Intel PCH: ALC282 Analog (hw:1,0)', 'hostApi': 0, 'maxInputChannels': 2, 'maxOutputChannels': 2, 'defaultLowInputLatency': 0.005804988662131519, 'defaultLowOutputLatency': 0.005804988662131519, 'defaultHighInputLatency': 0.034829931972789115, 'defaultHighOutputLatency': 0.034829931972789115, 'defaultSampleRate': 44100.0}\n",
            "{'index': 6, 'structVersion': 2, 'name': 'hdmi', 'hostApi': 0, 'maxInputChannels': 0, 'maxOutputChannels': 8, 'defaultLowInputLatency': -1.0, 'defaultLowOutputLatency': 0.005804988662131519, 'defaultHighInputLatency': -1.0, 'defaultHighOutputLatency': 0.034829931972789115, 'defaultSampleRate': 44100.0}\n",
            "{'index': 7, 'structVersion': 2, 'name': 'pulse', 'hostApi': 0, 'maxInputChannels': 32, 'maxOutputChannels': 32, 'defaultLowInputLatency': 0.008684807256235827, 'defaultLowOutputLatency': 0.008684807256235827, 'defaultHighInputLatency': 0.034807256235827665, 'defaultHighOutputLatency': 0.034807256235827665, 'defaultSampleRate': 44100.0}\n",
            "{'index': 8, 'structVersion': 2, 'name': 'default', 'hostApi': 0, 'maxInputChannels': 32, 'maxOutputChannels': 32, 'defaultLowInputLatency': 0.008684807256235827, 'defaultLowOutputLatency': 0.008684807256235827, 'defaultHighInputLatency': 0.034807256235827665, 'defaultHighOutputLatency': 0.034807256235827665, 'defaultSampleRate': 44100.0}\n"
          ]
        }
      ],
      "source": [
        "import pyaudio   # to import pyaudio\n",
        "\n",
        "p =pyaudio.PyAudio()    # to check the mic ports in local device\n",
        "for i in range(p.get_device_count()):\n",
        "    print(p.get_device_info_by_index(i))\n",
        "\n",
        "p.terminate()"
      ]
    },
    {
      "cell_type": "code",
      "execution_count": null,
      "id": "bda7c484",
      "metadata": {
        "id": "bda7c484",
        "outputId": "4b497f3b-cb1f-4657-84ad-3bf84f988e7d"
      },
      "outputs": [
        {
          "name": "stdout",
          "output_type": "stream",
          "text": [
            "Input Device id  5  -  HDA Intel PCH: ALC282 Analog (hw:1,0)\n",
            "Input Device id  7  -  pulse\n",
            "Input Device id  8  -  default\n"
          ]
        },
        {
          "name": "stderr",
          "output_type": "stream",
          "text": [
            "ALSA lib pcm_dsnoop.c:601:(snd_pcm_dsnoop_open) unable to open slave\n",
            "ALSA lib pcm_dmix.c:1032:(snd_pcm_dmix_open) unable to open slave\n",
            "ALSA lib pcm.c:2664:(snd_pcm_open_noupdate) Unknown PCM cards.pcm.rear\n",
            "ALSA lib pcm.c:2664:(snd_pcm_open_noupdate) Unknown PCM cards.pcm.center_lfe\n",
            "ALSA lib pcm.c:2664:(snd_pcm_open_noupdate) Unknown PCM cards.pcm.side\n",
            "Cannot connect to server socket err = No such file or directory\n",
            "Cannot connect to server request channel\n",
            "jack server is not running or cannot be started\n",
            "JackShmReadWritePtr::~JackShmReadWritePtr - Init not done for -1, skipping unlock\n",
            "JackShmReadWritePtr::~JackShmReadWritePtr - Init not done for -1, skipping unlock\n",
            "Cannot connect to server socket err = No such file or directory\n",
            "Cannot connect to server request channel\n",
            "jack server is not running or cannot be started\n",
            "JackShmReadWritePtr::~JackShmReadWritePtr - Init not done for -1, skipping unlock\n",
            "JackShmReadWritePtr::~JackShmReadWritePtr - Init not done for -1, skipping unlock\n",
            "ALSA lib pcm_oss.c:397:(_snd_pcm_oss_open) Cannot open device /dev/dsp\n",
            "ALSA lib pcm_oss.c:397:(_snd_pcm_oss_open) Cannot open device /dev/dsp\n",
            "ALSA lib confmisc.c:160:(snd_config_get_card) Invalid field card\n",
            "ALSA lib pcm_usb_stream.c:482:(_snd_pcm_usb_stream_open) Invalid card 'card'\n",
            "ALSA lib confmisc.c:160:(snd_config_get_card) Invalid field card\n",
            "ALSA lib pcm_usb_stream.c:482:(_snd_pcm_usb_stream_open) Invalid card 'card'\n",
            "ALSA lib pcm_dmix.c:1032:(snd_pcm_dmix_open) unable to open slave\n"
          ]
        }
      ],
      "source": [
        "import pyaudio\n",
        "\n",
        "p = pyaudio.PyAudio()\n",
        "info = p.get_host_api_info_by_index(0)\n",
        "numdevices = info.get('deviceCount')\n",
        "\n",
        "for i in range(0, numdevices):\n",
        "    if (p.get_device_info_by_host_api_device_index(0, i).get('maxInputChannels')) > 0:\n",
        "        print(\"Input Device id \", i, \" - \", p.get_device_info_by_host_api_device_index(0, i).get('name'))"
      ]
    },
    {
      "cell_type": "code",
      "execution_count": null,
      "id": "c033aee4",
      "metadata": {
        "id": "c033aee4",
        "outputId": "324ca031-6fe0-4e80-a33b-83eecfe5e010"
      },
      "outputs": [
        {
          "ename": "SyntaxError",
          "evalue": "invalid syntax (3689551792.py, line 2)",
          "output_type": "error",
          "traceback": [
            "\u001b[0;36m  Input \u001b[0;32mIn [2]\u001b[0;36m\u001b[0m\n\u001b[0;31m    print sd.query_devices()\u001b[0m\n\u001b[0m          ^\u001b[0m\n\u001b[0;31mSyntaxError\u001b[0m\u001b[0;31m:\u001b[0m invalid syntax\n"
          ]
        }
      ],
      "source": [
        "import sounddevice as sd\n",
        "print sd.query_devices()"
      ]
    },
    {
      "cell_type": "code",
      "execution_count": null,
      "id": "a3dbf3e5",
      "metadata": {
        "id": "a3dbf3e5",
        "outputId": "459c7dd2-fcf1-49a7-e648-b5e195557593"
      },
      "outputs": [
        {
          "name": "stdout",
          "output_type": "stream",
          "text": [
            "Collecting sounddevice\n",
            "\u001b[33m  WARNING: Retrying (Retry(total=4, connect=None, read=None, redirect=None, status=None)) after connection broken by 'NewConnectionError('<pip._vendor.urllib3.connection.HTTPSConnection object at 0x7f15ebfe19a0>: Failed to establish a new connection: [Errno 101] Network is unreachable')': /packages/58/d6/6acdd3607b52bd76630129d3e5ea6bc6444292a727386652a8836b308f16/sounddevice-0.4.5-py3-none-any.whl\u001b[0m\u001b[33m\n",
            "\u001b[0m\u001b[33m  WARNING: Retrying (Retry(total=3, connect=None, read=None, redirect=None, status=None)) after connection broken by 'ReadTimeoutError(\"HTTPSConnectionPool(host='files.pythonhosted.org', port=443): Read timed out. (read timeout=15)\")': /packages/58/d6/6acdd3607b52bd76630129d3e5ea6bc6444292a727386652a8836b308f16/sounddevice-0.4.5-py3-none-any.whl\u001b[0m\u001b[33m\n",
            "\u001b[0m\u001b[33m  WARNING: Retrying (Retry(total=2, connect=None, read=None, redirect=None, status=None)) after connection broken by 'NewConnectionError('<pip._vendor.urllib3.connection.HTTPSConnection object at 0x7f15ebfe1e20>: Failed to establish a new connection: [Errno 101] Network is unreachable')': /packages/58/d6/6acdd3607b52bd76630129d3e5ea6bc6444292a727386652a8836b308f16/sounddevice-0.4.5-py3-none-any.whl\u001b[0m\u001b[33m\n",
            "\u001b[0m\u001b[33m  WARNING: Retrying (Retry(total=1, connect=None, read=None, redirect=None, status=None)) after connection broken by 'ReadTimeoutError(\"HTTPSConnectionPool(host='files.pythonhosted.org', port=443): Read timed out. (read timeout=15)\")': /packages/58/d6/6acdd3607b52bd76630129d3e5ea6bc6444292a727386652a8836b308f16/sounddevice-0.4.5-py3-none-any.whl\u001b[0m\u001b[33m\n",
            "\u001b[0m\u001b[33m  WARNING: Retrying (Retry(total=0, connect=None, read=None, redirect=None, status=None)) after connection broken by 'NewConnectionError('<pip._vendor.urllib3.connection.HTTPSConnection object at 0x7f15ec0c7430>: Failed to establish a new connection: [Errno 101] Network is unreachable')': /packages/58/d6/6acdd3607b52bd76630129d3e5ea6bc6444292a727386652a8836b308f16/sounddevice-0.4.5-py3-none-any.whl\u001b[0m\u001b[33m\n",
            "\u001b[0m\u001b[31mERROR: Could not install packages due to an OSError: HTTPSConnectionPool(host='files.pythonhosted.org', port=443): Max retries exceeded with url: /packages/58/d6/6acdd3607b52bd76630129d3e5ea6bc6444292a727386652a8836b308f16/sounddevice-0.4.5-py3-none-any.whl (Caused by NewConnectionError('<pip._vendor.urllib3.connection.HTTPSConnection object at 0x7f15ebffa220>: Failed to establish a new connection: [Errno 101] Network is unreachable'))\n",
            "\u001b[0m\u001b[31m\n",
            "\u001b[0mNote: you may need to restart the kernel to use updated packages.\n"
          ]
        }
      ],
      "source": [
        "%pip install sounddevice"
      ]
    },
    {
      "cell_type": "code",
      "execution_count": null,
      "id": "5d3aab49",
      "metadata": {
        "id": "5d3aab49",
        "outputId": "c29f147d-2661-4f1a-d477-208f971ccd4b"
      },
      "outputs": [
        {
          "ename": "IndentationError",
          "evalue": "unindent does not match any outer indentation level (<tokenize>, line 31)",
          "output_type": "error",
          "traceback": [
            "\u001b[0;36m  File \u001b[0;32m<tokenize>:31\u001b[0;36m\u001b[0m\n\u001b[0;31m    if 'video' in r1.recognize_google(audio, language='en'):\u001b[0m\n\u001b[0m    ^\u001b[0m\n\u001b[0;31mIndentationError\u001b[0m\u001b[0;31m:\u001b[0m unindent does not match any outer indentation level\n"
          ]
        }
      ],
      "source": [
        "import  speech_recognition  as  sr\n",
        "import  webbrowser  as wb\n",
        "\n",
        "r1 = sr.Recognizer()\n",
        "r2 = sr.Recognizer()\n",
        "r3 = sr.Recognizer()\n",
        "\n",
        "with  sr.Microphone() as source:\n",
        "    print('[search edureka: search youtube]')\n",
        "    print('speak now')\n",
        "    audio = r3.listen(source)\n",
        "\n",
        "    if 'edureka' in r2.recognize_google(audio, language='en'):\n",
        "        r2 = sr.Recognizer()\n",
        "        url = 'https://www.edureka.co/'\n",
        "        with  sr.Microphone()  as source:\n",
        "            print('search your query')\n",
        "            audio = r2.listen(source)\n",
        "\n",
        "\n",
        "            try:\n",
        "                get = r2.recognize_google(audio, language='en')\n",
        "                print(get)\n",
        "                wb.get().open_new(url+get)\n",
        "                except  sr.UnknownValueError:\n",
        "                    print('error')\n",
        "                    except  sr.RequestError as e:\n",
        "                        print('failed'.format(e))\n",
        "\n",
        "\n",
        " if 'video' in r1.recognize_google(audio, language='en'):\n",
        "        r1 = sr.Recognizer()\n",
        "        url = 'https://www.youtube.com/results?search_query='\n",
        "        with  sr.Microphone() as source:\n",
        "            print('search for a video')\n",
        "            audio = r1.listen(source)\n",
        "\n",
        "            try:\n",
        "                get = r1.recognize_google(audio, language='en')\n",
        "                print(get)\n",
        "                wb.get().open_new(url+get)\n",
        "                except sr.UnknownValueError:\n",
        "                    print('could not understand')\n",
        "                    except sr.RequestError as e:\n",
        "                        print(failed to get results'.format(e))"
      ]
    },
    {
      "cell_type": "code",
      "execution_count": null,
      "id": "f0e34fdc",
      "metadata": {
        "id": "f0e34fdc",
        "outputId": "83bd2483-6463-4072-fae2-42b436fe0674"
      },
      "outputs": [
        {
          "name": "stdout",
          "output_type": "stream",
          "text": [
            "Requirement already satisfied: pyaudio in /home/kiyasia/anaconda3/envs/tensorflow/lib/python3.9/site-packages (0.2.11)\n",
            "Collecting pyaudio\n",
            "  Using cached PyAudio-0.2.12.tar.gz (42 kB)\n",
            "  Installing build dependencies ... \u001b[?25ldone\n",
            "\u001b[?25h  Getting requirements to build wheel ... \u001b[?25ldone\n",
            "\u001b[?25h  Preparing metadata (pyproject.toml) ... \u001b[?25ldone\n",
            "\u001b[?25hBuilding wheels for collected packages: pyaudio\n",
            "  Building wheel for pyaudio (pyproject.toml) ... \u001b[?25ldone\n",
            "\u001b[?25h  Created wheel for pyaudio: filename=PyAudio-0.2.12-cp39-cp39-linux_x86_64.whl size=27004 sha256=e73de16beeaf234d5ae5126f8b71b1420c8279e125a0322d5514356f13c7c12a\n",
            "  Stored in directory: /home/kiyasia/.cache/pip/wheels/66/6c/95/76afa159d5be5215b6f6499625a0ddf1134e60f85beeba6e7a\n",
            "Successfully built pyaudio\n",
            "Installing collected packages: pyaudio\n",
            "  Attempting uninstall: pyaudio\n",
            "    Found existing installation: PyAudio 0.2.11\n",
            "\u001b[31mERROR: Cannot uninstall 'PyAudio'. It is a distutils installed project and thus we cannot accurately determine which files belong to it which would lead to only a partial uninstall.\u001b[0m\u001b[31m\n",
            "\u001b[0mNote: you may need to restart the kernel to use updated packages.\n"
          ]
        }
      ],
      "source": [
        "%pip install --upgrade pyaudio"
      ]
    },
    {
      "cell_type": "code",
      "execution_count": null,
      "id": "37b06b19",
      "metadata": {
        "id": "37b06b19",
        "outputId": "aa2b058f-86ad-43d7-f026-63dd1c3e99d5"
      },
      "outputs": [
        {
          "name": "stdout",
          "output_type": "stream",
          "text": [
            "Requirement already satisfied: wheel in /home/kiyasia/anaconda3/envs/tensorflow/lib/python3.9/site-packages (0.37.1)\n",
            "Note: you may need to restart the kernel to use updated packages.\n"
          ]
        }
      ],
      "source": [
        "%pip install wheel"
      ]
    },
    {
      "cell_type": "code",
      "execution_count": null,
      "id": "c0d43c5a",
      "metadata": {
        "id": "c0d43c5a",
        "outputId": "01f50447-62cf-49d0-b09b-5a3d8c109b88"
      },
      "outputs": [
        {
          "name": "stdout",
          "output_type": "stream",
          "text": [
            "Collecting google-api-python-client\n",
            "  Downloading google_api_python_client-2.58.0-py2.py3-none-any.whl (9.0 MB)\n",
            "\u001b[2K     \u001b[38;2;114;156;31m━━━━━━━━━━━━━━━━━━━━━━━━━━━━━━━━━━━━━━━━\u001b[0m \u001b[32m9.0/9.0 MB\u001b[0m \u001b[31m467.5 kB/s\u001b[0m eta \u001b[36m0:00:00\u001b[0mm eta \u001b[36m0:00:01\u001b[0m[36m0:00:01\u001b[0m\n",
            "\u001b[?25hCollecting google-auth-httplib2>=0.1.0\n",
            "  Downloading google_auth_httplib2-0.1.0-py2.py3-none-any.whl (9.3 kB)\n",
            "Collecting google-api-core!=2.0.*,!=2.1.*,!=2.2.*,!=2.3.0,<3.0.0dev,>=1.31.5\n",
            "  Downloading google_api_core-2.10.0-py3-none-any.whl (115 kB)\n",
            "\u001b[2K     \u001b[38;2;114;156;31m━━━━━━━━━━━━━━━━━━━━━━━━━━━━━━━━━━━━━\u001b[0m \u001b[32m115.3/115.3 kB\u001b[0m \u001b[31m311.8 kB/s\u001b[0m eta \u001b[36m0:00:00\u001b[0m[36m0:00:01\u001b[0m[36m0:00:01\u001b[0m:01\u001b[0m\n",
            "\u001b[?25hRequirement already satisfied: google-auth<3.0.0dev,>=1.19.0 in /home/kiyasia/anaconda3/envs/tensorflow/lib/python3.9/site-packages (from google-api-python-client) (2.6.0)\n",
            "Collecting httplib2<1dev,>=0.15.0\n",
            "  Downloading httplib2-0.20.4-py3-none-any.whl (96 kB)\n",
            "\u001b[2K     \u001b[38;2;114;156;31m━━━━━━━━━━━━━━━━━━━━━━━━━━━━━━━━━━━━━━━\u001b[0m \u001b[32m96.6/96.6 kB\u001b[0m \u001b[31m276.8 kB/s\u001b[0m eta \u001b[36m0:00:00\u001b[0m kB/s\u001b[0m eta \u001b[36m0:00:01\u001b[0m:01\u001b[0m\n",
            "\u001b[?25hCollecting uritemplate<5,>=3.0.1\n",
            "  Downloading uritemplate-4.1.1-py2.py3-none-any.whl (10 kB)\n",
            "Collecting googleapis-common-protos<2.0dev,>=1.56.2\n",
            "  Downloading googleapis_common_protos-1.56.4-py2.py3-none-any.whl (211 kB)\n",
            "\u001b[2K     \u001b[38;2;114;156;31m━━━━━━━━━━━━━━━━━━━━━━━━━━━━━━━━━━━━━\u001b[0m \u001b[32m211.7/211.7 kB\u001b[0m \u001b[31m292.1 kB/s\u001b[0m eta \u001b[36m0:00:00\u001b[0m1m311.5 kB/s\u001b[0m eta \u001b[36m0:00:01\u001b[0m\n",
            "\u001b[?25hRequirement already satisfied: requests<3.0.0dev,>=2.18.0 in /home/kiyasia/anaconda3/envs/tensorflow/lib/python3.9/site-packages (from google-api-core!=2.0.*,!=2.1.*,!=2.2.*,!=2.3.0,<3.0.0dev,>=1.31.5->google-api-python-client) (2.28.1)\n",
            "Requirement already satisfied: protobuf<5.0.0dev,>=3.20.1 in /home/kiyasia/anaconda3/envs/tensorflow/lib/python3.9/site-packages (from google-api-core!=2.0.*,!=2.1.*,!=2.2.*,!=2.3.0,<3.0.0dev,>=1.31.5->google-api-python-client) (3.20.1)\n",
            "Requirement already satisfied: pyasn1-modules>=0.2.1 in /home/kiyasia/anaconda3/envs/tensorflow/lib/python3.9/site-packages (from google-auth<3.0.0dev,>=1.19.0->google-api-python-client) (0.2.8)\n",
            "Requirement already satisfied: rsa<5,>=3.1.4 in /home/kiyasia/anaconda3/envs/tensorflow/lib/python3.9/site-packages (from google-auth<3.0.0dev,>=1.19.0->google-api-python-client) (4.7.2)\n",
            "Requirement already satisfied: six>=1.9.0 in /home/kiyasia/anaconda3/envs/tensorflow/lib/python3.9/site-packages (from google-auth<3.0.0dev,>=1.19.0->google-api-python-client) (1.16.0)\n",
            "Requirement already satisfied: cachetools<6.0,>=2.0.0 in /home/kiyasia/anaconda3/envs/tensorflow/lib/python3.9/site-packages (from google-auth<3.0.0dev,>=1.19.0->google-api-python-client) (4.2.2)\n",
            "Requirement already satisfied: pyparsing!=3.0.0,!=3.0.1,!=3.0.2,!=3.0.3,<4,>=2.4.2 in /home/kiyasia/anaconda3/envs/tensorflow/lib/python3.9/site-packages (from httplib2<1dev,>=0.15.0->google-api-python-client) (3.0.4)\n",
            "Requirement already satisfied: pyasn1<0.5.0,>=0.4.6 in /home/kiyasia/anaconda3/envs/tensorflow/lib/python3.9/site-packages (from pyasn1-modules>=0.2.1->google-auth<3.0.0dev,>=1.19.0->google-api-python-client) (0.4.8)\n",
            "Requirement already satisfied: idna<4,>=2.5 in /home/kiyasia/anaconda3/envs/tensorflow/lib/python3.9/site-packages (from requests<3.0.0dev,>=2.18.0->google-api-core!=2.0.*,!=2.1.*,!=2.2.*,!=2.3.0,<3.0.0dev,>=1.31.5->google-api-python-client) (3.3)\n",
            "Requirement already satisfied: certifi>=2017.4.17 in /home/kiyasia/anaconda3/envs/tensorflow/lib/python3.9/site-packages (from requests<3.0.0dev,>=2.18.0->google-api-core!=2.0.*,!=2.1.*,!=2.2.*,!=2.3.0,<3.0.0dev,>=1.31.5->google-api-python-client) (2022.6.15)\n",
            "Requirement already satisfied: charset-normalizer<3,>=2 in /home/kiyasia/anaconda3/envs/tensorflow/lib/python3.9/site-packages (from requests<3.0.0dev,>=2.18.0->google-api-core!=2.0.*,!=2.1.*,!=2.2.*,!=2.3.0,<3.0.0dev,>=1.31.5->google-api-python-client) (2.0.4)\n",
            "Requirement already satisfied: urllib3<1.27,>=1.21.1 in /home/kiyasia/anaconda3/envs/tensorflow/lib/python3.9/site-packages (from requests<3.0.0dev,>=2.18.0->google-api-core!=2.0.*,!=2.1.*,!=2.2.*,!=2.3.0,<3.0.0dev,>=1.31.5->google-api-python-client) (1.26.11)\n",
            "Installing collected packages: uritemplate, httplib2, googleapis-common-protos, google-auth-httplib2, google-api-core, google-api-python-client\n",
            "Successfully installed google-api-core-2.10.0 google-api-python-client-2.58.0 google-auth-httplib2-0.1.0 googleapis-common-protos-1.56.4 httplib2-0.20.4 uritemplate-4.1.1\n",
            "Note: you may need to restart the kernel to use updated packages.\n"
          ]
        }
      ],
      "source": [
        "%pip install google-api-python-client"
      ]
    },
    {
      "cell_type": "code",
      "execution_count": null,
      "id": "c28574ff",
      "metadata": {
        "id": "c28574ff",
        "outputId": "bd8686c7-5750-45d2-bd54-15da0866fdb9"
      },
      "outputs": [
        {
          "name": "stdout",
          "output_type": "stream",
          "text": [
            "Collecting monotonic\n",
            "  Downloading monotonic-1.6-py2.py3-none-any.whl (8.2 kB)\n",
            "Installing collected packages: monotonic\n",
            "Successfully installed monotonic-1.6\n",
            "Note: you may need to restart the kernel to use updated packages.\n"
          ]
        }
      ],
      "source": [
        "%pip install monotonic"
      ]
    },
    {
      "cell_type": "code",
      "execution_count": null,
      "id": "433d2405",
      "metadata": {
        "id": "433d2405",
        "outputId": "4481ba53-a5c2-49db-eb44-ea52a5b2df5d"
      },
      "outputs": [
        {
          "name": "stdout",
          "output_type": "stream",
          "text": [
            "Requirement already satisfied: SpeechRecognition in /home/kiyasia/anaconda3/envs/tensorflow/lib/python3.9/site-packages (3.8.1)\n",
            "Note: you may need to restart the kernel to use updated packages.\n"
          ]
        }
      ],
      "source": [
        "%pip install SpeechRecognition"
      ]
    },
    {
      "cell_type": "code",
      "execution_count": null,
      "id": "d409d9ac",
      "metadata": {
        "id": "d409d9ac",
        "outputId": "f40f23a6-1166-4060-dd46-b1485c042a4d"
      },
      "outputs": [
        {
          "ename": "NameError",
          "evalue": "name 'r' is not defined",
          "output_type": "error",
          "traceback": [
            "\u001b[0;31m---------------------------------------------------------------------------\u001b[0m",
            "\u001b[0;31mNameError\u001b[0m                                 Traceback (most recent call last)",
            "Input \u001b[0;32mIn [8]\u001b[0m, in \u001b[0;36m<cell line: 1>\u001b[0;34m()\u001b[0m\n\u001b[0;32m----> 1\u001b[0m sresult \u001b[38;5;241m=\u001b[39m \u001b[43mr\u001b[49m\u001b[38;5;241m.\u001b[39mrecognize_google(audio,key\u001b[38;5;241m=\u001b[39m\u001b[38;5;124m\"\u001b[39m\u001b[38;5;124mAIzaSyDRdSN1VaRW27HxA68rZW5FesS2qoPD8\u001b[39m\u001b[38;5;124m\"\u001b[39m, language\u001b[38;5;241m=\u001b[39m\u001b[38;5;124m\"\u001b[39m\u001b[38;5;124mfr-FR\u001b[39m\u001b[38;5;124m\"\u001b[39m,show_all\u001b[38;5;241m=\u001b[39m\u001b[38;5;28;01mTrue\u001b[39;00m)\n",
            "\u001b[0;31mNameError\u001b[0m: name 'r' is not defined"
          ]
        }
      ],
      "source": [
        "sresult = r.recognize_google(audio,key=\"AIzaSyDRdSN1VaRW27HxA68rZW5FesS2qoPD8\", language=\"fr-FR\",show_all=True)"
      ]
    },
    {
      "cell_type": "code",
      "execution_count": null,
      "id": "995b8a8c",
      "metadata": {
        "id": "995b8a8c"
      },
      "outputs": [],
      "source": []
    }
  ],
  "metadata": {
    "kernelspec": {
      "display_name": "Python 3 (ipykernel)",
      "language": "python",
      "name": "python3"
    },
    "language_info": {
      "codemirror_mode": {
        "name": "ipython",
        "version": 3
      },
      "file_extension": ".py",
      "mimetype": "text/x-python",
      "name": "python",
      "nbconvert_exporter": "python",
      "pygments_lexer": "ipython3",
      "version": "3.9.7"
    },
    "colab": {
      "provenance": []
    }
  },
  "nbformat": 4,
  "nbformat_minor": 5
}