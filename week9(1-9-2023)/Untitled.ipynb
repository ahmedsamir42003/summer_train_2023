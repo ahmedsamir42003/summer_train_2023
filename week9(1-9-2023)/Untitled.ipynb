{
 "cells": [
  {
   "cell_type": "code",
   "execution_count": null,
   "id": "6ed59ae7",
   "metadata": {},
   "outputs": [],
   "source": [
    "%%capture\n",
    "!pip install tensorflow_hub"
   ]
  },
  {
   "cell_type": "code",
   "execution_count": null,
   "id": "fe4249d0",
   "metadata": {},
   "outputs": [],
   "source": [
    "%%capture\n",
    "!pip install PItensorflow_hubL"
   ]
  },
  {
   "cell_type": "code",
   "execution_count": null,
   "id": "a736b956",
   "metadata": {},
   "outputs": [],
   "source": [
    "import numpy as np\n",
    "import cv2\n",
    "import PIL\n",
    "import os\n",
    "import matplotlib.pylab as plt\n",
    "import tensorflow as tf\n",
    "import tensorflow_hub as hub\n",
    "from tensorflow import keras\n",
    "from tensorflow.keras import layers\n",
    "from tensorflow.keras.models import Sequential"
   ]
  },
  {
   "cell_type": "code",
   "execution_count": null,
   "id": "d5f01489",
   "metadata": {},
   "outputs": [],
   "source": [
    "dataset_url = \"https://storage.googleapis.com/download.tensorflow.org/example_images/flower_photos.tgz\"\n",
    "data_dir = tf.keras.utils.get_file('flower_photos', origin=dataset_url,  cache_dir='.', untar=True)\n",
    "# cache_dir indicates where to download data. I specified . which means current directory\n",
    "# untar true will unzip it"
   ]
  },
  {
   "cell_type": "code",
   "execution_count": null,
   "id": "87a6dcad",
   "metadata": {},
   "outputs": [],
   "source": [
    "data_dir"
   ]
  },
  {
   "cell_type": "code",
   "execution_count": null,
   "id": "c6f1b2ef",
   "metadata": {},
   "outputs": [],
   "source": [
    "import pathlib\n",
    "data_dir=pathlib.Path(data_dir)\n",
    "data_dir"
   ]
  },
  {
   "cell_type": "code",
   "execution_count": null,
   "id": "31a7de70",
   "metadata": {},
   "outputs": [],
   "source": [
    "list(data_dir.glob('*/*.jpg'))[:5]"
   ]
  },
  {
   "cell_type": "code",
   "execution_count": null,
   "id": "d735387c",
   "metadata": {},
   "outputs": [],
   "source": [
    "image_count=len(list(data_dir.glob('*/*.jpg')))\n",
    "print(image_count)"
   ]
  },
  {
   "cell_type": "code",
   "execution_count": null,
   "id": "3f0b8291",
   "metadata": {},
   "outputs": [],
   "source": [
    "roses=list(data_dir.glob('roses/*'))\n",
    "roses[:5]"
   ]
  },
  {
   "cell_type": "code",
   "execution_count": null,
   "id": "49e8b48d",
   "metadata": {},
   "outputs": [],
   "source": [
    "flowers_images_dict={\n",
    "    'roses':list(data_dir.glob('roses/*')),\n",
    "    'daisy':list(data_dir.glob('daisy/*')),\n",
    "    'dandelion':list(data_dir.glob('dadelion/*')),\n",
    "    'sunflowers':list(data_dir.glob('sunflowers/*')),\n",
    "    'tulips':list(data_dir.glob('tulips/*'))\n",
    "}"
   ]
  },
  {
   "cell_type": "code",
   "execution_count": null,
   "id": "ea19b8b0",
   "metadata": {},
   "outputs": [],
   "source": [
    "flowers_labels_dict={\n",
    "     'roses':0,\n",
    "    'daisy':1,\n",
    "    'dandelion':2,\n",
    "    'sunflowers':3,\n",
    "    'tulips':4\n",
    "}"
   ]
  },
  {
   "cell_type": "code",
   "execution_count": null,
   "id": "18546a9d",
   "metadata": {},
   "outputs": [],
   "source": [
    "x,y=[],[]\n",
    "\n",
    "for flower_name,images in flowers_images_dict.items():\n",
    "    for image in images:\n",
    "        img=cv2.imread(str(image))\n",
    "        resized_img=cv2.resize(img,(224,224))\n",
    "        x.append(resized_img)\n",
    "        y.append(flowers_labels_dict[flower_name])"
   ]
  },
  {
   "cell_type": "code",
   "execution_count": null,
   "id": "77c8f845",
   "metadata": {},
   "outputs": [],
   "source": [
    "x=np.array(x)\n",
    "y=np.array(y)"
   ]
  },
  {
   "cell_type": "code",
   "execution_count": null,
   "id": "5beb7618",
   "metadata": {},
   "outputs": [],
   "source": [
    "from sklearn.model_selection import train_test_split\n",
    "x_train,x_test,y_train,y_test=train_test_split(x,y,random_state=0)"
   ]
  },
  {
   "cell_type": "code",
   "execution_count": null,
   "id": "dbc640da",
   "metadata": {},
   "outputs": [],
   "source": [
    "x_train_scaled=x_train/255\n",
    "x_test_scaled=x_test/255"
   ]
  },
  {
   "cell_type": "code",
   "execution_count": null,
   "id": "446b3fb7",
   "metadata": {},
   "outputs": [],
   "source": [
    "x[0].shape"
   ]
  },
  {
   "cell_type": "code",
   "execution_count": null,
   "id": "0955ba86",
   "metadata": {},
   "outputs": [],
   "source": [
    "feature_extractor_model='https://tfhub.dev/google/tf2-preview/mobilenet_v2/feature_vector/4'\n",
    "\n",
    "pretrained_model_without_top_layer=hub.KerasLayer(\n",
    "feature_extractor_model,input_shape=(224,224,3),trainable=False)"
   ]
  },
  {
   "cell_type": "code",
   "execution_count": null,
   "id": "1fdc503d",
   "metadata": {},
   "outputs": [],
   "source": [
    "num_of_flowers=5\n",
    "\n",
    "model=tf.keras.Sequential([\n",
    "    pretrained_model_without_top_layer,\n",
    "    tf.keras.layers.Dense(num_of_flowers)\n",
    "]\n",
    ")\n",
    "model.summary()"
   ]
  },
  {
   "cell_type": "code",
   "execution_count": null,
   "id": "6c96cfd0",
   "metadata": {},
   "outputs": [],
   "source": [
    "model.compile(\n",
    "    optimizer='adam'\n",
    "    loss=tf.keras.losses.SparseCategoricalCrossentropy(from_logits=True)\n",
    "    metrics=['acc']\n",
    ")\n",
    "model.fit(x_train_scaled,y_train,epochs=5)"
   ]
  },
  {
   "cell_type": "code",
   "execution_count": null,
   "id": "10dc65b3",
   "metadata": {},
   "outputs": [],
   "source": []
  }
 ],
 "metadata": {
  "kernelspec": {
   "display_name": "Python 3 (ipykernel)",
   "language": "python",
   "name": "python3"
  },
  "language_info": {
   "codemirror_mode": {
    "name": "ipython",
    "version": 3
   },
   "file_extension": ".py",
   "mimetype": "text/x-python",
   "name": "python",
   "nbconvert_exporter": "python",
   "pygments_lexer": "ipython3",
   "version": "3.9.7"
  }
 },
 "nbformat": 4,
 "nbformat_minor": 5
}
